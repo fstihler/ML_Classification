{
 "cells": [
  {
   "cell_type": "markdown",
   "id": "298cf91d",
   "metadata": {},
   "source": [
    "# Machine Learning for Wine Color and Quality Classification"
   ]
  },
  {
   "cell_type": "code",
   "execution_count": 180,
   "id": "1420e7e5",
   "metadata": {},
   "outputs": [],
   "source": [
    "# imports\n",
    "import numpy as np\n",
    "import pandas as pd\n",
    "import matplotlib.pyplot as plt\n",
    "import sklearn.linear_model as lm\n",
    "from sklearn.compose import ColumnTransformer\n",
    "from sklearn.preprocessing import StandardScaler\n",
    "from sklearn import set_config\n",
    "import sklearn.metrics as metrics\n",
    "from sklearn.ensemble import RandomForestClassifier\n",
    "from matplotlib.lines import Line2D"
   ]
  },
  {
   "cell_type": "code",
   "execution_count": 120,
   "id": "66c44592",
   "metadata": {},
   "outputs": [
    {
     "data": {
      "text/html": [
       "<div>\n",
       "<style scoped>\n",
       "    .dataframe tbody tr th:only-of-type {\n",
       "        vertical-align: middle;\n",
       "    }\n",
       "\n",
       "    .dataframe tbody tr th {\n",
       "        vertical-align: top;\n",
       "    }\n",
       "\n",
       "    .dataframe thead th {\n",
       "        text-align: right;\n",
       "    }\n",
       "</style>\n",
       "<table border=\"1\" class=\"dataframe\">\n",
       "  <thead>\n",
       "    <tr style=\"text-align: right;\">\n",
       "      <th></th>\n",
       "      <th>type</th>\n",
       "      <th>fixed acidity</th>\n",
       "      <th>volatile acidity</th>\n",
       "      <th>citric acid</th>\n",
       "      <th>residual sugar</th>\n",
       "      <th>chlorides</th>\n",
       "      <th>free sulfur dioxide</th>\n",
       "      <th>total sulfur dioxide</th>\n",
       "      <th>density</th>\n",
       "      <th>pH</th>\n",
       "      <th>sulphates</th>\n",
       "      <th>alcohol</th>\n",
       "      <th>quality</th>\n",
       "    </tr>\n",
       "  </thead>\n",
       "  <tbody>\n",
       "    <tr>\n",
       "      <th>0</th>\n",
       "      <td>white</td>\n",
       "      <td>7.0</td>\n",
       "      <td>0.27</td>\n",
       "      <td>0.36</td>\n",
       "      <td>20.7</td>\n",
       "      <td>0.045</td>\n",
       "      <td>45.0</td>\n",
       "      <td>170.0</td>\n",
       "      <td>1.0010</td>\n",
       "      <td>3.00</td>\n",
       "      <td>0.45</td>\n",
       "      <td>8.8</td>\n",
       "      <td>6</td>\n",
       "    </tr>\n",
       "    <tr>\n",
       "      <th>1</th>\n",
       "      <td>white</td>\n",
       "      <td>6.3</td>\n",
       "      <td>0.30</td>\n",
       "      <td>0.34</td>\n",
       "      <td>1.6</td>\n",
       "      <td>0.049</td>\n",
       "      <td>14.0</td>\n",
       "      <td>132.0</td>\n",
       "      <td>0.9940</td>\n",
       "      <td>3.30</td>\n",
       "      <td>0.49</td>\n",
       "      <td>9.5</td>\n",
       "      <td>6</td>\n",
       "    </tr>\n",
       "    <tr>\n",
       "      <th>2</th>\n",
       "      <td>white</td>\n",
       "      <td>8.1</td>\n",
       "      <td>0.28</td>\n",
       "      <td>0.40</td>\n",
       "      <td>6.9</td>\n",
       "      <td>0.050</td>\n",
       "      <td>30.0</td>\n",
       "      <td>97.0</td>\n",
       "      <td>0.9951</td>\n",
       "      <td>3.26</td>\n",
       "      <td>0.44</td>\n",
       "      <td>10.1</td>\n",
       "      <td>6</td>\n",
       "    </tr>\n",
       "    <tr>\n",
       "      <th>3</th>\n",
       "      <td>white</td>\n",
       "      <td>7.2</td>\n",
       "      <td>0.23</td>\n",
       "      <td>0.32</td>\n",
       "      <td>8.5</td>\n",
       "      <td>0.058</td>\n",
       "      <td>47.0</td>\n",
       "      <td>186.0</td>\n",
       "      <td>0.9956</td>\n",
       "      <td>3.19</td>\n",
       "      <td>0.40</td>\n",
       "      <td>9.9</td>\n",
       "      <td>6</td>\n",
       "    </tr>\n",
       "    <tr>\n",
       "      <th>4</th>\n",
       "      <td>white</td>\n",
       "      <td>7.2</td>\n",
       "      <td>0.23</td>\n",
       "      <td>0.32</td>\n",
       "      <td>8.5</td>\n",
       "      <td>0.058</td>\n",
       "      <td>47.0</td>\n",
       "      <td>186.0</td>\n",
       "      <td>0.9956</td>\n",
       "      <td>3.19</td>\n",
       "      <td>0.40</td>\n",
       "      <td>9.9</td>\n",
       "      <td>6</td>\n",
       "    </tr>\n",
       "  </tbody>\n",
       "</table>\n",
       "</div>"
      ],
      "text/plain": [
       "    type  fixed acidity  volatile acidity  citric acid  residual sugar  \\\n",
       "0  white            7.0              0.27         0.36            20.7   \n",
       "1  white            6.3              0.30         0.34             1.6   \n",
       "2  white            8.1              0.28         0.40             6.9   \n",
       "3  white            7.2              0.23         0.32             8.5   \n",
       "4  white            7.2              0.23         0.32             8.5   \n",
       "\n",
       "   chlorides  free sulfur dioxide  total sulfur dioxide  density    pH  \\\n",
       "0      0.045                 45.0                 170.0   1.0010  3.00   \n",
       "1      0.049                 14.0                 132.0   0.9940  3.30   \n",
       "2      0.050                 30.0                  97.0   0.9951  3.26   \n",
       "3      0.058                 47.0                 186.0   0.9956  3.19   \n",
       "4      0.058                 47.0                 186.0   0.9956  3.19   \n",
       "\n",
       "   sulphates  alcohol  quality  \n",
       "0       0.45      8.8        6  \n",
       "1       0.49      9.5        6  \n",
       "2       0.44     10.1        6  \n",
       "3       0.40      9.9        6  \n",
       "4       0.40      9.9        6  "
      ]
     },
     "execution_count": 120,
     "metadata": {},
     "output_type": "execute_result"
    }
   ],
   "source": [
    "# Retrieve data\n",
    "df = pd.read_csv(\"winequalityN.csv\")\n",
    "df.head()"
   ]
  },
  {
   "cell_type": "code",
   "execution_count": 121,
   "id": "adacbc70",
   "metadata": {},
   "outputs": [
    {
     "name": "stdout",
     "output_type": "stream",
     "text": [
      "<class 'pandas.core.frame.DataFrame'>\n",
      "RangeIndex: 6497 entries, 0 to 6496\n",
      "Data columns (total 13 columns):\n",
      " #   Column                Non-Null Count  Dtype  \n",
      "---  ------                --------------  -----  \n",
      " 0   type                  6497 non-null   object \n",
      " 1   fixed acidity         6487 non-null   float64\n",
      " 2   volatile acidity      6489 non-null   float64\n",
      " 3   citric acid           6494 non-null   float64\n",
      " 4   residual sugar        6495 non-null   float64\n",
      " 5   chlorides             6495 non-null   float64\n",
      " 6   free sulfur dioxide   6497 non-null   float64\n",
      " 7   total sulfur dioxide  6497 non-null   float64\n",
      " 8   density               6497 non-null   float64\n",
      " 9   pH                    6488 non-null   float64\n",
      " 10  sulphates             6493 non-null   float64\n",
      " 11  alcohol               6497 non-null   float64\n",
      " 12  quality               6497 non-null   int64  \n",
      "dtypes: float64(11), int64(1), object(1)\n",
      "memory usage: 660.0+ KB\n"
     ]
    }
   ],
   "source": [
    "df.info()"
   ]
  },
  {
   "cell_type": "code",
   "execution_count": 122,
   "id": "4690f3bb",
   "metadata": {},
   "outputs": [
    {
     "data": {
      "text/plain": [
       "array([6, 5, 7, 8, 4, 3, 9])"
      ]
     },
     "execution_count": 122,
     "metadata": {},
     "output_type": "execute_result"
    }
   ],
   "source": [
    "df[\"quality\"].unique() # Note that only the quality labels 3-9 are present"
   ]
  },
  {
   "cell_type": "markdown",
   "id": "113600d2",
   "metadata": {},
   "source": [
    "## 1. Data cleaning"
   ]
  },
  {
   "cell_type": "code",
   "execution_count": 123,
   "id": "ac66153c",
   "metadata": {},
   "outputs": [
    {
     "name": "stdout",
     "output_type": "stream",
     "text": [
      "Missing values in each column:/n type                     0\n",
      "fixed acidity           10\n",
      "volatile acidity         8\n",
      "citric acid              3\n",
      "residual sugar           2\n",
      "chlorides                2\n",
      "free sulfur dioxide      0\n",
      "total sulfur dioxide     0\n",
      "density                  0\n",
      "pH                       9\n",
      "sulphates                4\n",
      "alcohol                  0\n",
      "quality                  0\n",
      "dtype: int64\n"
     ]
    }
   ],
   "source": [
    "# drop missing values\n",
    "print(\"Missing values in each column:/n\", df.isnull().sum())"
   ]
  },
  {
   "cell_type": "code",
   "execution_count": 124,
   "id": "45b6e920",
   "metadata": {},
   "outputs": [],
   "source": [
    "# drop NA values\n",
    "df.dropna(inplace=True)\n",
    "df = df.reset_index(drop=True)\n",
    "\n",
    "# Encode type as binary variable\n",
    "winetype = pd.get_dummies(df.type)\n",
    "df = pd.concat([df, winetype], axis='columns')\n",
    "df= df.drop(['type', 'white'], axis='columns') # type: 1 = red, 0 = white\n",
    "\n",
    "# renaming the columns for simplicity\n",
    "df.rename(columns={'red':'type', 'fixed acidity':'fixed_acidity', 'volatile acidity':'volatile_acidity', 'citric acid':'citric_acid', 'residual sugar':'residual_sugar', 'free sulfur dioxide':'free_sulf_diox', 'total sulfur dioxide':'total_sulf_diox'}, inplace=True)"
   ]
  },
  {
   "cell_type": "code",
   "execution_count": 125,
   "id": "5084a3d5",
   "metadata": {},
   "outputs": [],
   "source": [
    "# Scaling\n",
    "set_config(transform_output=\"pandas\")\n",
    "columns_to_scale = ['fixed_acidity', 'volatile_acidity', 'citric_acid', 'residual_sugar', 'chlorides', 'free_sulf_diox', 'total_sulf_diox', 'density', 'pH', 'sulphates', 'alcohol']\n",
    "scaler = ColumnTransformer([(\"scale\", StandardScaler(), columns_to_scale)], remainder='passthrough',)\n",
    "df_scaled = scaler.fit_transform(df)\n",
    "\n",
    "# renaming the columns for simplicity\n",
    "df_scaled.rename(columns={'scale__fixed_acidity':'fixed_acidity', 'scale__volatile_acidity':'volatile_acidity', 'scale__citric_acid':'citric_acid', 'scale__residual_sugar':'residual_sugar', 'scale__free_sulf_diox':'free_sulf_diox', 'scale__total_sulf_diox':'total_sulf_diox', 'scale__chlorides':'chlorides', 'scale__density':'density', 'scale__pH':'pH', 'scale__sulphates':'sulphates', 'scale__alcohol':'alcohol', 'remainder__quality':'quality', 'remainder__type':'type'}, inplace=True)"
   ]
  },
  {
   "cell_type": "markdown",
   "id": "d850d9e5",
   "metadata": {},
   "source": [
    "## 2. Data Exploration"
   ]
  },
  {
   "cell_type": "markdown",
   "id": "060d69b5",
   "metadata": {},
   "source": [
    "### 2.1 Distribution of wine type"
   ]
  },
  {
   "cell_type": "code",
   "execution_count": 244,
   "id": "df12ac02",
   "metadata": {},
   "outputs": [
    {
     "name": "stdout",
     "output_type": "stream",
     "text": [
      "percentage of red:  0.24647996286554233\n"
     ]
    },
    {
     "data": {
      "image/png": "[encoded data removed]",
      "text/plain": [
       "<Figure size 640x480 with 1 Axes>"
      ]
     },
     "metadata": {},
     "output_type": "display_data"
    }
   ],
   "source": [
    "red_count = df_scaled[\"type\"].sum()\n",
    "white_count = df_scaled.shape[0]-red_count\n",
    "plt.bar([\"Red\", \"White\"], [red_count, white_count], color = [\"darkred\", \"khaki\"], width=0.75)\n",
    "plt.title(\"Distribution of wine color\")\n",
    "plt.xlabel(\"Wine color\")\n",
    "plt.ylabel(\"Frequency\")\n",
    "#plt.savefig('Distribution_of_wine_color.png', bbox_inches='tight')\n",
    "print(\"percentage of red: \", red_count/(red_count+white_count))"
   ]
  },
  {
   "cell_type": "markdown",
   "id": "c47735a3",
   "metadata": {},
   "source": [
    "### 2.2 Distribution of wine quality"
   ]
  },
  {
   "cell_type": "code",
   "execution_count": 221,
   "id": "69c5b0c5",
   "metadata": {},
   "outputs": [],
   "source": [
    "# Distribution of wine quality\n",
    "qualities = np.array(df_scaled[\"quality\"].unique())\n",
    "count_per_quality = df_scaled.groupby([\"quality\"]).count().type"
   ]
  },
  {
   "cell_type": "code",
   "execution_count": 228,
   "id": "9ae8fcf8",
   "metadata": {},
   "outputs": [
    {
     "data": {
      "text/plain": [
       "Text(0, 0.5, 'Frequency')"
      ]
     },
     "execution_count": 228,
     "metadata": {},
     "output_type": "execute_result"
    },
    {
     "data": {
      "image/png": "[encoded data removed]",
      "text/plain": [
       "<Figure size 640x480 with 1 Axes>"
      ]
     },
     "metadata": {},
     "output_type": "display_data"
    }
   ],
   "source": [
    "plt.bar(np.sort(qualities), count_per_quality, color = \"darkslateblue\")\n",
    "plt.title(\"Distribution of wine quality\")\n",
    "plt.xlabel(\"Quality class\")\n",
    "plt.ylabel(\"Frequency\")\n",
    "#plt.savefig('Distribution_of_wine_quality.png', bbox_inches='tight')"
   ]
  },
  {
   "cell_type": "markdown",
   "id": "cedf814a",
   "metadata": {},
   "source": [
    "## 3. Predicting Wine Color"
   ]
  },
  {
   "cell_type": "code",
   "execution_count": 294,
   "id": "4b253d8b",
   "metadata": {},
   "outputs": [],
   "source": [
    "# Split in training and test data\n",
    "\n",
    "train_data_frac = 0.7\n",
    "\n",
    "train = df_scaled.sample(frac = train_data_frac, random_state = 20)\n",
    "test = df_scaled.drop(train.index)\n",
    "\n",
    "# seperate response from covariates (we also drop quality here)\n",
    "\n",
    "train_cov = train.drop([\"quality\", \"type\"], axis=1)\n",
    "train_resp = train[\"type\"]\n",
    "\n",
    "test_cov = test.drop([\"quality\", \"type\"], axis=1)\n",
    "test_resp = test[\"type\"]"
   ]
  },
  {
   "cell_type": "markdown",
   "id": "ae103f02",
   "metadata": {},
   "source": [
    "### 3.1 Logistic Regression"
   ]
  },
  {
   "cell_type": "code",
   "execution_count": 295,
   "id": "16ad15fb",
   "metadata": {},
   "outputs": [
    {
     "data": {
      "text/html": [
       "<style>#sk-container-id-10 {color: black;background-color: white;}#sk-container-id-10 pre{padding: 0;}#sk-container-id-10 div.sk-toggleable {background-color: white;}#sk-container-id-10 label.sk-toggleable__label {cursor: pointer;display: block;width: 100%;margin-bottom: 0;padding: 0.3em;box-sizing: border-box;text-align: center;}#sk-container-id-10 label.sk-toggleable__label-arrow:before {content: \"▸\";float: left;margin-right: 0.25em;color: #696969;}#sk-container-id-10 label.sk-toggleable__label-arrow:hover:before {color: black;}#sk-container-id-10 div.sk-estimator:hover label.sk-toggleable__label-arrow:before {color: black;}#sk-container-id-10 div.sk-toggleable__content {max-height: 0;max-width: 0;overflow: hidden;text-align: left;background-color: #f0f8ff;}#sk-container-id-10 div.sk-toggleable__content pre {margin: 0.2em;color: black;border-radius: 0.25em;background-color: #f0f8ff;}#sk-container-id-10 input.sk-toggleable__control:checked~div.sk-toggleable__content {max-height: 200px;max-width: 100%;overflow: auto;}#sk-container-id-10 input.sk-toggleable__control:checked~label.sk-toggleable__label-arrow:before {content: \"▾\";}#sk-container-id-10 div.sk-estimator input.sk-toggleable__control:checked~label.sk-toggleable__label {background-color: #d4ebff;}#sk-container-id-10 div.sk-label input.sk-toggleable__control:checked~label.sk-toggleable__label {background-color: #d4ebff;}#sk-container-id-10 input.sk-hidden--visually {border: 0;clip: rect(1px 1px 1px 1px);clip: rect(1px, 1px, 1px, 1px);height: 1px;margin: -1px;overflow: hidden;padding: 0;position: absolute;width: 1px;}#sk-container-id-10 div.sk-estimator {font-family: monospace;background-color: #f0f8ff;border: 1px dotted black;border-radius: 0.25em;box-sizing: border-box;margin-bottom: 0.5em;}#sk-container-id-10 div.sk-estimator:hover {background-color: #d4ebff;}#sk-container-id-10 div.sk-parallel-item::after {content: \"\";width: 100%;border-bottom: 1px solid gray;flex-grow: 1;}#sk-container-id-10 div.sk-label:hover label.sk-toggleable__label {background-color: #d4ebff;}#sk-container-id-10 div.sk-serial::before {content: \"\";position: absolute;border-left: 1px solid gray;box-sizing: border-box;top: 0;bottom: 0;left: 50%;z-index: 0;}#sk-container-id-10 div.sk-serial {display: flex;flex-direction: column;align-items: center;background-color: white;padding-right: 0.2em;padding-left: 0.2em;position: relative;}#sk-container-id-10 div.sk-item {position: relative;z-index: 1;}#sk-container-id-10 div.sk-parallel {display: flex;align-items: stretch;justify-content: center;background-color: white;position: relative;}#sk-container-id-10 div.sk-item::before, #sk-container-id-10 div.sk-parallel-item::before {content: \"\";position: absolute;border-left: 1px solid gray;box-sizing: border-box;top: 0;bottom: 0;left: 50%;z-index: -1;}#sk-container-id-10 div.sk-parallel-item {display: flex;flex-direction: column;z-index: 1;position: relative;background-color: white;}#sk-container-id-10 div.sk-parallel-item:first-child::after {align-self: flex-end;width: 50%;}#sk-container-id-10 div.sk-parallel-item:last-child::after {align-self: flex-start;width: 50%;}#sk-container-id-10 div.sk-parallel-item:only-child::after {width: 0;}#sk-container-id-10 div.sk-dashed-wrapped {border: 1px dashed gray;margin: 0 0.4em 0.5em 0.4em;box-sizing: border-box;padding-bottom: 0.4em;background-color: white;}#sk-container-id-10 div.sk-label label {font-family: monospace;font-weight: bold;display: inline-block;line-height: 1.2em;}#sk-container-id-10 div.sk-label-container {text-align: center;}#sk-container-id-10 div.sk-container {/* jupyter's `normalize.less` sets `[hidden] { display: none; }` but bootstrap.min.css set `[hidden] { display: none !important; }` so we also need the `!important` here to be able to override the default hidden behavior on the sphinx rendered scikit-learn.org. See: https://github.com/scikit-learn/scikit-learn/issues/21755 */display: inline-block !important;position: relative;}#sk-container-id-10 div.sk-text-repr-fallback {display: none;}</style><div id=\"sk-container-id-10\" class=\"sk-top-container\"><div class=\"sk-text-repr-fallback\"><pre>LogisticRegression(penalty=None)</pre><b>In a Jupyter environment, please rerun this cell to show the HTML representation or trust the notebook. <br />On GitHub, the HTML representation is unable to render, please try loading this page with nbviewer.org.</b></div><div class=\"sk-container\" hidden><div class=\"sk-item\"><div class=\"sk-estimator sk-toggleable\"><input class=\"sk-toggleable__control sk-hidden--visually\" id=\"sk-estimator-id-10\" type=\"checkbox\" checked><label for=\"sk-estimator-id-10\" class=\"sk-toggleable__label sk-toggleable__label-arrow\">LogisticRegression</label><div class=\"sk-toggleable__content\"><pre>LogisticRegression(penalty=None)</pre></div></div></div></div></div>"
      ],
      "text/plain": [
       "LogisticRegression(penalty=None)"
      ]
     },
     "execution_count": 295,
     "metadata": {},
     "output_type": "execute_result"
    }
   ],
   "source": [
    "log = lm.LogisticRegression(penalty = None)\n",
    "log.fit(train_cov, train_resp)"
   ]
  },
  {
   "cell_type": "code",
   "execution_count": 296,
   "id": "6fedf5dd",
   "metadata": {},
   "outputs": [
    {
     "ename": "SyntaxError",
     "evalue": "incomplete input (1601494051.py, line 2)",
     "output_type": "error",
     "traceback": [
      "\u001b[0;36m  Cell \u001b[0;32mIn[296], line 2\u001b[0;36m\u001b[0m\n\u001b[0;31m    print(\"Hemming loss is: \", metrics.hamming_loss(test_resp, test_pred_log)\u001b[0m\n\u001b[0m                                                                             ^\u001b[0m\n\u001b[0;31mSyntaxError\u001b[0m\u001b[0;31m:\u001b[0m incomplete input\n"
     ]
    }
   ],
   "source": [
    "test_pred_log = log.predict(test_cov)\n",
    "print(\"Hemming loss is: \", metrics.hamming_loss(test_resp, test_pred_log)"
   ]
  },
  {
   "cell_type": "code",
   "execution_count": 297,
   "id": "c404b6c6",
   "metadata": {},
   "outputs": [
    {
     "ename": "SyntaxError",
     "evalue": "incomplete input (2989316143.py, line 1)",
     "output_type": "error",
     "traceback": [
      "\u001b[0;36m  Cell \u001b[0;32mIn[297], line 1\u001b[0;36m\u001b[0m\n\u001b[0;31m    print(\"Log loss is: \", metrics.log_loss(test_resp, log.predict_proba(test_cov))\u001b[0m\n\u001b[0m                                                                                   ^\u001b[0m\n\u001b[0;31mSyntaxError\u001b[0m\u001b[0;31m:\u001b[0m incomplete input\n"
     ]
    }
   ],
   "source": [
    "print(\"Log loss is: \", metrics.log_loss(test_resp, log.predict_proba(test_cov))"
   ]
  },
  {
   "cell_type": "code",
   "execution_count": null,
   "id": "de5f1d79",
   "metadata": {},
   "outputs": [],
   "source": []
  },
  {
   "cell_type": "markdown",
   "id": "409ed9f4",
   "metadata": {},
   "source": [
    "### 3.2 Neural Network"
   ]
  },
  {
   "cell_type": "code",
   "execution_count": null,
   "id": "e894b181",
   "metadata": {},
   "outputs": [],
   "source": []
  },
  {
   "cell_type": "markdown",
   "id": "0600fa32",
   "metadata": {},
   "source": [
    "### 3.3 Feature Importance"
   ]
  },
  {
   "cell_type": "code",
   "execution_count": null,
   "id": "eb99622b",
   "metadata": {},
   "outputs": [],
   "source": []
  },
  {
   "cell_type": "code",
   "execution_count": null,
   "id": "75d469d5",
   "metadata": {},
   "outputs": [],
   "source": []
  },
  {
   "cell_type": "markdown",
   "id": "339d8ebf",
   "metadata": {},
   "source": [
    "## 2. Linear Regression"
   ]
  },
  {
   "cell_type": "code",
   "execution_count": 277,
   "id": "a2054dbd",
   "metadata": {},
   "outputs": [],
   "source": [
    "# Split in training and test data\n",
    "\n",
    "train_data_frac = 0.7\n",
    "\n",
    "train = df_scaled.sample(frac = train_data_frac, random_state = 20)\n",
    "test = df_scaled.drop(train.index)\n",
    "\n",
    "# seperate response from covariates\n",
    "\n",
    "train_cov = train.drop(\"quality\", axis=1)\n",
    "train_resp = train[\"quality\"]\n",
    "\n",
    "test_cov = test.drop(\"quality\", axis=1)\n",
    "test_resp = test[\"quality\"]"
   ]
  },
  {
   "cell_type": "code",
   "execution_count": 278,
   "id": "63a31616",
   "metadata": {},
   "outputs": [
    {
     "data": {
      "text/html": [
       "<style>#sk-container-id-8 {color: black;background-color: white;}#sk-container-id-8 pre{padding: 0;}#sk-container-id-8 div.sk-toggleable {background-color: white;}#sk-container-id-8 label.sk-toggleable__label {cursor: pointer;display: block;width: 100%;margin-bottom: 0;padding: 0.3em;box-sizing: border-box;text-align: center;}#sk-container-id-8 label.sk-toggleable__label-arrow:before {content: \"▸\";float: left;margin-right: 0.25em;color: #696969;}#sk-container-id-8 label.sk-toggleable__label-arrow:hover:before {color: black;}#sk-container-id-8 div.sk-estimator:hover label.sk-toggleable__label-arrow:before {color: black;}#sk-container-id-8 div.sk-toggleable__content {max-height: 0;max-width: 0;overflow: hidden;text-align: left;background-color: #f0f8ff;}#sk-container-id-8 div.sk-toggleable__content pre {margin: 0.2em;color: black;border-radius: 0.25em;background-color: #f0f8ff;}#sk-container-id-8 input.sk-toggleable__control:checked~div.sk-toggleable__content {max-height: 200px;max-width: 100%;overflow: auto;}#sk-container-id-8 input.sk-toggleable__control:checked~label.sk-toggleable__label-arrow:before {content: \"▾\";}#sk-container-id-8 div.sk-estimator input.sk-toggleable__control:checked~label.sk-toggleable__label {background-color: #d4ebff;}#sk-container-id-8 div.sk-label input.sk-toggleable__control:checked~label.sk-toggleable__label {background-color: #d4ebff;}#sk-container-id-8 input.sk-hidden--visually {border: 0;clip: rect(1px 1px 1px 1px);clip: rect(1px, 1px, 1px, 1px);height: 1px;margin: -1px;overflow: hidden;padding: 0;position: absolute;width: 1px;}#sk-container-id-8 div.sk-estimator {font-family: monospace;background-color: #f0f8ff;border: 1px dotted black;border-radius: 0.25em;box-sizing: border-box;margin-bottom: 0.5em;}#sk-container-id-8 div.sk-estimator:hover {background-color: #d4ebff;}#sk-container-id-8 div.sk-parallel-item::after {content: \"\";width: 100%;border-bottom: 1px solid gray;flex-grow: 1;}#sk-container-id-8 div.sk-label:hover label.sk-toggleable__label {background-color: #d4ebff;}#sk-container-id-8 div.sk-serial::before {content: \"\";position: absolute;border-left: 1px solid gray;box-sizing: border-box;top: 0;bottom: 0;left: 50%;z-index: 0;}#sk-container-id-8 div.sk-serial {display: flex;flex-direction: column;align-items: center;background-color: white;padding-right: 0.2em;padding-left: 0.2em;position: relative;}#sk-container-id-8 div.sk-item {position: relative;z-index: 1;}#sk-container-id-8 div.sk-parallel {display: flex;align-items: stretch;justify-content: center;background-color: white;position: relative;}#sk-container-id-8 div.sk-item::before, #sk-container-id-8 div.sk-parallel-item::before {content: \"\";position: absolute;border-left: 1px solid gray;box-sizing: border-box;top: 0;bottom: 0;left: 50%;z-index: -1;}#sk-container-id-8 div.sk-parallel-item {display: flex;flex-direction: column;z-index: 1;position: relative;background-color: white;}#sk-container-id-8 div.sk-parallel-item:first-child::after {align-self: flex-end;width: 50%;}#sk-container-id-8 div.sk-parallel-item:last-child::after {align-self: flex-start;width: 50%;}#sk-container-id-8 div.sk-parallel-item:only-child::after {width: 0;}#sk-container-id-8 div.sk-dashed-wrapped {border: 1px dashed gray;margin: 0 0.4em 0.5em 0.4em;box-sizing: border-box;padding-bottom: 0.4em;background-color: white;}#sk-container-id-8 div.sk-label label {font-family: monospace;font-weight: bold;display: inline-block;line-height: 1.2em;}#sk-container-id-8 div.sk-label-container {text-align: center;}#sk-container-id-8 div.sk-container {/* jupyter's `normalize.less` sets `[hidden] { display: none; }` but bootstrap.min.css set `[hidden] { display: none !important; }` so we also need the `!important` here to be able to override the default hidden behavior on the sphinx rendered scikit-learn.org. See: https://github.com/scikit-learn/scikit-learn/issues/21755 */display: inline-block !important;position: relative;}#sk-container-id-8 div.sk-text-repr-fallback {display: none;}</style><div id=\"sk-container-id-8\" class=\"sk-top-container\"><div class=\"sk-text-repr-fallback\"><pre>LinearRegression()</pre><b>In a Jupyter environment, please rerun this cell to show the HTML representation or trust the notebook. <br />On GitHub, the HTML representation is unable to render, please try loading this page with nbviewer.org.</b></div><div class=\"sk-container\" hidden><div class=\"sk-item\"><div class=\"sk-estimator sk-toggleable\"><input class=\"sk-toggleable__control sk-hidden--visually\" id=\"sk-estimator-id-8\" type=\"checkbox\" checked><label for=\"sk-estimator-id-8\" class=\"sk-toggleable__label sk-toggleable__label-arrow\">LinearRegression</label><div class=\"sk-toggleable__content\"><pre>LinearRegression()</pre></div></div></div></div></div>"
      ],
      "text/plain": [
       "LinearRegression()"
      ]
     },
     "execution_count": 278,
     "metadata": {},
     "output_type": "execute_result"
    }
   ],
   "source": [
    "reg = lm.LinearRegression()\n",
    "reg.fit(train_cov, train_resp)"
   ]
  },
  {
   "cell_type": "code",
   "execution_count": 279,
   "id": "f30c46e2",
   "metadata": {},
   "outputs": [
    {
     "name": "stdout",
     "output_type": "stream",
     "text": [
      "[ 0.11613509 -0.23816159 -0.00734506  0.29126213 -0.02708688  0.07565959\n",
      " -0.07632882 -0.28983247  0.08292891  0.09999545  0.27233389  0.31681955]\n",
      "5.733820023070848\n"
     ]
    }
   ],
   "source": [
    "print(reg.coef_)\n",
    "print(reg.intercept_)"
   ]
  },
  {
   "cell_type": "code",
   "execution_count": 280,
   "id": "e062ca96",
   "metadata": {},
   "outputs": [
    {
     "data": {
      "text/plain": [
       "0.4657039711191336"
      ]
     },
     "execution_count": 280,
     "metadata": {},
     "output_type": "execute_result"
    }
   ],
   "source": [
    "test_pred_reg = np.round(reg.predict(test_cov))\n",
    "metrics.hamming_loss(test_resp, test_pred_reg)"
   ]
  },
  {
   "cell_type": "code",
   "execution_count": 281,
   "id": "cca116b5",
   "metadata": {},
   "outputs": [
    {
     "data": {
      "text/plain": [
       "0.591542031975245"
      ]
     },
     "execution_count": 281,
     "metadata": {},
     "output_type": "execute_result"
    }
   ],
   "source": [
    "metrics.mean_squared_error(test_resp, test_pred_reg)"
   ]
  },
  {
   "cell_type": "code",
   "execution_count": 282,
   "id": "9a9ac97f",
   "metadata": {},
   "outputs": [
    {
     "data": {
      "text/plain": [
       "0.46640141467727675"
      ]
     },
     "execution_count": 282,
     "metadata": {},
     "output_type": "execute_result"
    }
   ],
   "source": [
    "train_pred_reg = np.round(reg.predict(train_cov))\n",
    "metrics.hamming_loss(train_resp, train_pred_reg)"
   ]
  },
  {
   "cell_type": "code",
   "execution_count": 286,
   "id": "8500dc5c",
   "metadata": {},
   "outputs": [
    {
     "data": {
      "text/plain": [
       "0.5342960288808665"
      ]
     },
     "execution_count": 286,
     "metadata": {},
     "output_type": "execute_result"
    }
   ],
   "source": [
    "(np.round(reg.predict(test_cov)) == test_resp).sum()/test_resp.shape[0]"
   ]
  },
  {
   "cell_type": "markdown",
   "id": "2774e473",
   "metadata": {},
   "source": [
    "## 3. Logistic Regression"
   ]
  },
  {
   "cell_type": "code",
   "execution_count": 288,
   "id": "ffd59c4a",
   "metadata": {},
   "outputs": [
    {
     "name": "stderr",
     "output_type": "stream",
     "text": [
      "/Users/fs/anaconda3/lib/python3.10/site-packages/sklearn/linear_model/_logistic.py:458: ConvergenceWarning: lbfgs failed to converge (status=1):\n",
      "STOP: TOTAL NO. of ITERATIONS REACHED LIMIT.\n",
      "\n",
      "Increase the number of iterations (max_iter) or scale the data as shown in:\n",
      "    https://scikit-learn.org/stable/modules/preprocessing.html\n",
      "Please also refer to the documentation for alternative solver options:\n",
      "    https://scikit-learn.org/stable/modules/linear_model.html#logistic-regression\n",
      "  n_iter_i = _check_optimize_result(\n"
     ]
    },
    {
     "data": {
      "text/html": [
       "<style>#sk-container-id-9 {color: black;background-color: white;}#sk-container-id-9 pre{padding: 0;}#sk-container-id-9 div.sk-toggleable {background-color: white;}#sk-container-id-9 label.sk-toggleable__label {cursor: pointer;display: block;width: 100%;margin-bottom: 0;padding: 0.3em;box-sizing: border-box;text-align: center;}#sk-container-id-9 label.sk-toggleable__label-arrow:before {content: \"▸\";float: left;margin-right: 0.25em;color: #696969;}#sk-container-id-9 label.sk-toggleable__label-arrow:hover:before {color: black;}#sk-container-id-9 div.sk-estimator:hover label.sk-toggleable__label-arrow:before {color: black;}#sk-container-id-9 div.sk-toggleable__content {max-height: 0;max-width: 0;overflow: hidden;text-align: left;background-color: #f0f8ff;}#sk-container-id-9 div.sk-toggleable__content pre {margin: 0.2em;color: black;border-radius: 0.25em;background-color: #f0f8ff;}#sk-container-id-9 input.sk-toggleable__control:checked~div.sk-toggleable__content {max-height: 200px;max-width: 100%;overflow: auto;}#sk-container-id-9 input.sk-toggleable__control:checked~label.sk-toggleable__label-arrow:before {content: \"▾\";}#sk-container-id-9 div.sk-estimator input.sk-toggleable__control:checked~label.sk-toggleable__label {background-color: #d4ebff;}#sk-container-id-9 div.sk-label input.sk-toggleable__control:checked~label.sk-toggleable__label {background-color: #d4ebff;}#sk-container-id-9 input.sk-hidden--visually {border: 0;clip: rect(1px 1px 1px 1px);clip: rect(1px, 1px, 1px, 1px);height: 1px;margin: -1px;overflow: hidden;padding: 0;position: absolute;width: 1px;}#sk-container-id-9 div.sk-estimator {font-family: monospace;background-color: #f0f8ff;border: 1px dotted black;border-radius: 0.25em;box-sizing: border-box;margin-bottom: 0.5em;}#sk-container-id-9 div.sk-estimator:hover {background-color: #d4ebff;}#sk-container-id-9 div.sk-parallel-item::after {content: \"\";width: 100%;border-bottom: 1px solid gray;flex-grow: 1;}#sk-container-id-9 div.sk-label:hover label.sk-toggleable__label {background-color: #d4ebff;}#sk-container-id-9 div.sk-serial::before {content: \"\";position: absolute;border-left: 1px solid gray;box-sizing: border-box;top: 0;bottom: 0;left: 50%;z-index: 0;}#sk-container-id-9 div.sk-serial {display: flex;flex-direction: column;align-items: center;background-color: white;padding-right: 0.2em;padding-left: 0.2em;position: relative;}#sk-container-id-9 div.sk-item {position: relative;z-index: 1;}#sk-container-id-9 div.sk-parallel {display: flex;align-items: stretch;justify-content: center;background-color: white;position: relative;}#sk-container-id-9 div.sk-item::before, #sk-container-id-9 div.sk-parallel-item::before {content: \"\";position: absolute;border-left: 1px solid gray;box-sizing: border-box;top: 0;bottom: 0;left: 50%;z-index: -1;}#sk-container-id-9 div.sk-parallel-item {display: flex;flex-direction: column;z-index: 1;position: relative;background-color: white;}#sk-container-id-9 div.sk-parallel-item:first-child::after {align-self: flex-end;width: 50%;}#sk-container-id-9 div.sk-parallel-item:last-child::after {align-self: flex-start;width: 50%;}#sk-container-id-9 div.sk-parallel-item:only-child::after {width: 0;}#sk-container-id-9 div.sk-dashed-wrapped {border: 1px dashed gray;margin: 0 0.4em 0.5em 0.4em;box-sizing: border-box;padding-bottom: 0.4em;background-color: white;}#sk-container-id-9 div.sk-label label {font-family: monospace;font-weight: bold;display: inline-block;line-height: 1.2em;}#sk-container-id-9 div.sk-label-container {text-align: center;}#sk-container-id-9 div.sk-container {/* jupyter's `normalize.less` sets `[hidden] { display: none; }` but bootstrap.min.css set `[hidden] { display: none !important; }` so we also need the `!important` here to be able to override the default hidden behavior on the sphinx rendered scikit-learn.org. See: https://github.com/scikit-learn/scikit-learn/issues/21755 */display: inline-block !important;position: relative;}#sk-container-id-9 div.sk-text-repr-fallback {display: none;}</style><div id=\"sk-container-id-9\" class=\"sk-top-container\"><div class=\"sk-text-repr-fallback\"><pre>LogisticRegression(penalty=None)</pre><b>In a Jupyter environment, please rerun this cell to show the HTML representation or trust the notebook. <br />On GitHub, the HTML representation is unable to render, please try loading this page with nbviewer.org.</b></div><div class=\"sk-container\" hidden><div class=\"sk-item\"><div class=\"sk-estimator sk-toggleable\"><input class=\"sk-toggleable__control sk-hidden--visually\" id=\"sk-estimator-id-9\" type=\"checkbox\" checked><label for=\"sk-estimator-id-9\" class=\"sk-toggleable__label sk-toggleable__label-arrow\">LogisticRegression</label><div class=\"sk-toggleable__content\"><pre>LogisticRegression(penalty=None)</pre></div></div></div></div></div>"
      ],
      "text/plain": [
       "LogisticRegression(penalty=None)"
      ]
     },
     "execution_count": 288,
     "metadata": {},
     "output_type": "execute_result"
    }
   ],
   "source": [
    "log = lm.LogisticRegression(penalty = None)\n",
    "log.fit(train_cov, train_resp)"
   ]
  },
  {
   "cell_type": "code",
   "execution_count": 289,
   "id": "cc4c4875",
   "metadata": {},
   "outputs": [
    {
     "data": {
      "text/plain": [
       "0.45074780814853016"
      ]
     },
     "execution_count": 289,
     "metadata": {},
     "output_type": "execute_result"
    }
   ],
   "source": [
    "test_pred_log = log.predict(test_cov)\n",
    "metrics.hamming_loss(test_resp, test_pred_log)"
   ]
  },
  {
   "cell_type": "code",
   "execution_count": 133,
   "id": "076cd729",
   "metadata": {},
   "outputs": [
    {
     "data": {
      "text/plain": [
       "0.6173285198555957"
      ]
     },
     "execution_count": 133,
     "metadata": {},
     "output_type": "execute_result"
    }
   ],
   "source": [
    "metrics.mean_squared_error(test_resp, test_pred_log)"
   ]
  },
  {
   "cell_type": "code",
   "execution_count": null,
   "id": "34309124",
   "metadata": {},
   "outputs": [],
   "source": []
  },
  {
   "cell_type": "code",
   "execution_count": null,
   "id": "e0c7f404",
   "metadata": {},
   "outputs": [],
   "source": []
  },
  {
   "cell_type": "markdown",
   "id": "01bc5b1c",
   "metadata": {},
   "source": [
    "## 4. Neural Network"
   ]
  },
  {
   "cell_type": "code",
   "execution_count": 91,
   "id": "d956d86c",
   "metadata": {},
   "outputs": [
    {
     "data": {
      "text/html": [
       "<div>\n",
       "<style scoped>\n",
       "    .dataframe tbody tr th:only-of-type {\n",
       "        vertical-align: middle;\n",
       "    }\n",
       "\n",
       "    .dataframe tbody tr th {\n",
       "        vertical-align: top;\n",
       "    }\n",
       "\n",
       "    .dataframe thead th {\n",
       "        text-align: right;\n",
       "    }\n",
       "</style>\n",
       "<table border=\"1\" class=\"dataframe\">\n",
       "  <thead>\n",
       "    <tr style=\"text-align: right;\">\n",
       "      <th></th>\n",
       "      <th>scale__fixed_acidity</th>\n",
       "      <th>scale__volatile_acidity</th>\n",
       "      <th>scale__citric_acid</th>\n",
       "      <th>scale__residual_sugar</th>\n",
       "      <th>scale__chlorides</th>\n",
       "      <th>scale__free_sulf_diox</th>\n",
       "      <th>scale__total_sulf_diox</th>\n",
       "      <th>scale__density</th>\n",
       "      <th>scale__pH</th>\n",
       "      <th>scale__sulphates</th>\n",
       "      <th>scale__alcohol</th>\n",
       "      <th>remainder__quality</th>\n",
       "      <th>remainder__type</th>\n",
       "    </tr>\n",
       "  </thead>\n",
       "  <tbody>\n",
       "    <tr>\n",
       "      <th>0</th>\n",
       "      <td>-0.167786</td>\n",
       "      <td>-0.422710</td>\n",
       "      <td>0.283959</td>\n",
       "      <td>3.207420</td>\n",
       "      <td>-0.315228</td>\n",
       "      <td>0.815609</td>\n",
       "      <td>0.960779</td>\n",
       "      <td>2.099926</td>\n",
       "      <td>-1.359160</td>\n",
       "      <td>-0.544987</td>\n",
       "      <td>-1.418922</td>\n",
       "      <td>6</td>\n",
       "      <td>0</td>\n",
       "    </tr>\n",
       "    <tr>\n",
       "      <th>1</th>\n",
       "      <td>-0.707155</td>\n",
       "      <td>-0.240479</td>\n",
       "      <td>0.146257</td>\n",
       "      <td>-0.808151</td>\n",
       "      <td>-0.201180</td>\n",
       "      <td>-0.930138</td>\n",
       "      <td>0.288479</td>\n",
       "      <td>-0.232465</td>\n",
       "      <td>0.508399</td>\n",
       "      <td>-0.276354</td>\n",
       "      <td>-0.832184</td>\n",
       "      <td>6</td>\n",
       "      <td>0</td>\n",
       "    </tr>\n",
       "    <tr>\n",
       "      <th>2</th>\n",
       "      <td>0.679794</td>\n",
       "      <td>-0.361966</td>\n",
       "      <td>0.559363</td>\n",
       "      <td>0.306117</td>\n",
       "      <td>-0.172668</td>\n",
       "      <td>-0.029107</td>\n",
       "      <td>-0.330745</td>\n",
       "      <td>0.134053</td>\n",
       "      <td>0.259391</td>\n",
       "      <td>-0.612146</td>\n",
       "      <td>-0.329265</td>\n",
       "      <td>6</td>\n",
       "      <td>0</td>\n",
       "    </tr>\n",
       "    <tr>\n",
       "      <th>3</th>\n",
       "      <td>-0.013681</td>\n",
       "      <td>-0.665684</td>\n",
       "      <td>0.008554</td>\n",
       "      <td>0.642500</td>\n",
       "      <td>0.055427</td>\n",
       "      <td>0.928238</td>\n",
       "      <td>1.243853</td>\n",
       "      <td>0.300653</td>\n",
       "      <td>-0.176373</td>\n",
       "      <td>-0.880779</td>\n",
       "      <td>-0.496905</td>\n",
       "      <td>6</td>\n",
       "      <td>0</td>\n",
       "    </tr>\n",
       "    <tr>\n",
       "      <th>4</th>\n",
       "      <td>-0.013681</td>\n",
       "      <td>-0.665684</td>\n",
       "      <td>0.008554</td>\n",
       "      <td>0.642500</td>\n",
       "      <td>0.055427</td>\n",
       "      <td>0.928238</td>\n",
       "      <td>1.243853</td>\n",
       "      <td>0.300653</td>\n",
       "      <td>-0.176373</td>\n",
       "      <td>-0.880779</td>\n",
       "      <td>-0.496905</td>\n",
       "      <td>6</td>\n",
       "      <td>0</td>\n",
       "    </tr>\n",
       "    <tr>\n",
       "      <th>...</th>\n",
       "      <td>...</td>\n",
       "      <td>...</td>\n",
       "      <td>...</td>\n",
       "      <td>...</td>\n",
       "      <td>...</td>\n",
       "      <td>...</td>\n",
       "      <td>...</td>\n",
       "      <td>...</td>\n",
       "      <td>...</td>\n",
       "      <td>...</td>\n",
       "      <td>...</td>\n",
       "      <td>...</td>\n",
       "      <td>...</td>\n",
       "    </tr>\n",
       "    <tr>\n",
       "      <th>6458</th>\n",
       "      <td>-0.321892</td>\n",
       "      <td>1.703315</td>\n",
       "      <td>-1.643871</td>\n",
       "      <td>-0.745079</td>\n",
       "      <td>0.340545</td>\n",
       "      <td>-0.141736</td>\n",
       "      <td>-1.374580</td>\n",
       "      <td>0.603864</td>\n",
       "      <td>1.255423</td>\n",
       "      <td>1.939871</td>\n",
       "      <td>-0.832184</td>\n",
       "      <td>6</td>\n",
       "      <td>1</td>\n",
       "    </tr>\n",
       "    <tr>\n",
       "      <th>6459</th>\n",
       "      <td>-0.784208</td>\n",
       "      <td>1.581828</td>\n",
       "      <td>-1.643871</td>\n",
       "      <td>-0.724055</td>\n",
       "      <td>0.967807</td>\n",
       "      <td>0.083522</td>\n",
       "      <td>-1.268427</td>\n",
       "      <td>0.067414</td>\n",
       "      <td>1.442179</td>\n",
       "      <td>0.328071</td>\n",
       "      <td>0.006014</td>\n",
       "      <td>5</td>\n",
       "      <td>1</td>\n",
       "    </tr>\n",
       "    <tr>\n",
       "      <th>6460</th>\n",
       "      <td>-0.707155</td>\n",
       "      <td>1.035136</td>\n",
       "      <td>-1.299616</td>\n",
       "      <td>-0.660984</td>\n",
       "      <td>0.568640</td>\n",
       "      <td>-0.085421</td>\n",
       "      <td>-1.339195</td>\n",
       "      <td>0.347301</td>\n",
       "      <td>1.255423</td>\n",
       "      <td>1.469762</td>\n",
       "      <td>0.425113</td>\n",
       "      <td>6</td>\n",
       "      <td>1</td>\n",
       "    </tr>\n",
       "    <tr>\n",
       "      <th>6461</th>\n",
       "      <td>-1.015366</td>\n",
       "      <td>1.855174</td>\n",
       "      <td>-1.368467</td>\n",
       "      <td>-0.724055</td>\n",
       "      <td>0.540129</td>\n",
       "      <td>0.083522</td>\n",
       "      <td>-1.268427</td>\n",
       "      <td>0.257337</td>\n",
       "      <td>2.189203</td>\n",
       "      <td>1.201129</td>\n",
       "      <td>-0.245446</td>\n",
       "      <td>5</td>\n",
       "      <td>1</td>\n",
       "    </tr>\n",
       "    <tr>\n",
       "      <th>6462</th>\n",
       "      <td>-0.938313</td>\n",
       "      <td>-0.179735</td>\n",
       "      <td>1.041320</td>\n",
       "      <td>-0.387673</td>\n",
       "      <td>0.312034</td>\n",
       "      <td>-0.704880</td>\n",
       "      <td>-1.303811</td>\n",
       "      <td>0.264001</td>\n",
       "      <td>1.068667</td>\n",
       "      <td>0.865337</td>\n",
       "      <td>0.425113</td>\n",
       "      <td>6</td>\n",
       "      <td>1</td>\n",
       "    </tr>\n",
       "  </tbody>\n",
       "</table>\n",
       "<p>6463 rows × 13 columns</p>\n",
       "</div>"
      ],
      "text/plain": [
       "      scale__fixed_acidity  scale__volatile_acidity  scale__citric_acid  \\\n",
       "0                -0.167786                -0.422710            0.283959   \n",
       "1                -0.707155                -0.240479            0.146257   \n",
       "2                 0.679794                -0.361966            0.559363   \n",
       "3                -0.013681                -0.665684            0.008554   \n",
       "4                -0.013681                -0.665684            0.008554   \n",
       "...                    ...                      ...                 ...   \n",
       "6458             -0.321892                 1.703315           -1.643871   \n",
       "6459             -0.784208                 1.581828           -1.643871   \n",
       "6460             -0.707155                 1.035136           -1.299616   \n",
       "6461             -1.015366                 1.855174           -1.368467   \n",
       "6462             -0.938313                -0.179735            1.041320   \n",
       "\n",
       "      scale__residual_sugar  scale__chlorides  scale__free_sulf_diox  \\\n",
       "0                  3.207420         -0.315228               0.815609   \n",
       "1                 -0.808151         -0.201180              -0.930138   \n",
       "2                  0.306117         -0.172668              -0.029107   \n",
       "3                  0.642500          0.055427               0.928238   \n",
       "4                  0.642500          0.055427               0.928238   \n",
       "...                     ...               ...                    ...   \n",
       "6458              -0.745079          0.340545              -0.141736   \n",
       "6459              -0.724055          0.967807               0.083522   \n",
       "6460              -0.660984          0.568640              -0.085421   \n",
       "6461              -0.724055          0.540129               0.083522   \n",
       "6462              -0.387673          0.312034              -0.704880   \n",
       "\n",
       "      scale__total_sulf_diox  scale__density  scale__pH  scale__sulphates  \\\n",
       "0                   0.960779        2.099926  -1.359160         -0.544987   \n",
       "1                   0.288479       -0.232465   0.508399         -0.276354   \n",
       "2                  -0.330745        0.134053   0.259391         -0.612146   \n",
       "3                   1.243853        0.300653  -0.176373         -0.880779   \n",
       "4                   1.243853        0.300653  -0.176373         -0.880779   \n",
       "...                      ...             ...        ...               ...   \n",
       "6458               -1.374580        0.603864   1.255423          1.939871   \n",
       "6459               -1.268427        0.067414   1.442179          0.328071   \n",
       "6460               -1.339195        0.347301   1.255423          1.469762   \n",
       "6461               -1.268427        0.257337   2.189203          1.201129   \n",
       "6462               -1.303811        0.264001   1.068667          0.865337   \n",
       "\n",
       "      scale__alcohol  remainder__quality  remainder__type  \n",
       "0          -1.418922                   6                0  \n",
       "1          -0.832184                   6                0  \n",
       "2          -0.329265                   6                0  \n",
       "3          -0.496905                   6                0  \n",
       "4          -0.496905                   6                0  \n",
       "...              ...                 ...              ...  \n",
       "6458       -0.832184                   6                1  \n",
       "6459        0.006014                   5                1  \n",
       "6460        0.425113                   6                1  \n",
       "6461       -0.245446                   5                1  \n",
       "6462        0.425113                   6                1  \n",
       "\n",
       "[6463 rows x 13 columns]"
      ]
     },
     "execution_count": 91,
     "metadata": {},
     "output_type": "execute_result"
    }
   ],
   "source": []
  },
  {
   "cell_type": "code",
   "execution_count": null,
   "id": "da60c06d",
   "metadata": {},
   "outputs": [],
   "source": []
  },
  {
   "cell_type": "code",
   "execution_count": 23,
   "id": "cd04bb4d",
   "metadata": {},
   "outputs": [
    {
     "data": {
      "text/html": [
       "<div>\n",
       "<style scoped>\n",
       "    .dataframe tbody tr th:only-of-type {\n",
       "        vertical-align: middle;\n",
       "    }\n",
       "\n",
       "    .dataframe tbody tr th {\n",
       "        vertical-align: top;\n",
       "    }\n",
       "\n",
       "    .dataframe thead th {\n",
       "        text-align: right;\n",
       "    }\n",
       "</style>\n",
       "<table border=\"1\" class=\"dataframe\">\n",
       "  <thead>\n",
       "    <tr style=\"text-align: right;\">\n",
       "      <th></th>\n",
       "      <th>red</th>\n",
       "      <th>white</th>\n",
       "    </tr>\n",
       "  </thead>\n",
       "  <tbody>\n",
       "    <tr>\n",
       "      <th>0</th>\n",
       "      <td>0</td>\n",
       "      <td>1</td>\n",
       "    </tr>\n",
       "    <tr>\n",
       "      <th>1</th>\n",
       "      <td>0</td>\n",
       "      <td>1</td>\n",
       "    </tr>\n",
       "    <tr>\n",
       "      <th>2</th>\n",
       "      <td>0</td>\n",
       "      <td>1</td>\n",
       "    </tr>\n",
       "    <tr>\n",
       "      <th>3</th>\n",
       "      <td>0</td>\n",
       "      <td>1</td>\n",
       "    </tr>\n",
       "    <tr>\n",
       "      <th>4</th>\n",
       "      <td>0</td>\n",
       "      <td>1</td>\n",
       "    </tr>\n",
       "    <tr>\n",
       "      <th>...</th>\n",
       "      <td>...</td>\n",
       "      <td>...</td>\n",
       "    </tr>\n",
       "    <tr>\n",
       "      <th>6458</th>\n",
       "      <td>1</td>\n",
       "      <td>0</td>\n",
       "    </tr>\n",
       "    <tr>\n",
       "      <th>6459</th>\n",
       "      <td>1</td>\n",
       "      <td>0</td>\n",
       "    </tr>\n",
       "    <tr>\n",
       "      <th>6460</th>\n",
       "      <td>1</td>\n",
       "      <td>0</td>\n",
       "    </tr>\n",
       "    <tr>\n",
       "      <th>6461</th>\n",
       "      <td>1</td>\n",
       "      <td>0</td>\n",
       "    </tr>\n",
       "    <tr>\n",
       "      <th>6462</th>\n",
       "      <td>1</td>\n",
       "      <td>0</td>\n",
       "    </tr>\n",
       "  </tbody>\n",
       "</table>\n",
       "<p>6463 rows × 2 columns</p>\n",
       "</div>"
      ],
      "text/plain": [
       "      red  white\n",
       "0       0      1\n",
       "1       0      1\n",
       "2       0      1\n",
       "3       0      1\n",
       "4       0      1\n",
       "...   ...    ...\n",
       "6458    1      0\n",
       "6459    1      0\n",
       "6460    1      0\n",
       "6461    1      0\n",
       "6462    1      0\n",
       "\n",
       "[6463 rows x 2 columns]"
      ]
     },
     "execution_count": 23,
     "metadata": {},
     "output_type": "execute_result"
    }
   ],
   "source": [
    "dummies"
   ]
  },
  {
   "cell_type": "code",
   "execution_count": 35,
   "id": "57aea82f",
   "metadata": {},
   "outputs": [
    {
     "data": {
      "text/html": [
       "<div>\n",
       "<style scoped>\n",
       "    .dataframe tbody tr th:only-of-type {\n",
       "        vertical-align: middle;\n",
       "    }\n",
       "\n",
       "    .dataframe tbody tr th {\n",
       "        vertical-align: top;\n",
       "    }\n",
       "\n",
       "    .dataframe thead th {\n",
       "        text-align: right;\n",
       "    }\n",
       "</style>\n",
       "<table border=\"1\" class=\"dataframe\">\n",
       "  <thead>\n",
       "    <tr style=\"text-align: right;\">\n",
       "      <th></th>\n",
       "      <th>fixed_acidity</th>\n",
       "      <th>volatile_acidity</th>\n",
       "      <th>citric_acid</th>\n",
       "      <th>residual_sugar</th>\n",
       "      <th>chlorides</th>\n",
       "      <th>free_sulf_diox</th>\n",
       "      <th>total_sulf_diox</th>\n",
       "      <th>density</th>\n",
       "      <th>pH</th>\n",
       "      <th>sulphates</th>\n",
       "      <th>alcohol</th>\n",
       "      <th>quality</th>\n",
       "      <th>type</th>\n",
       "    </tr>\n",
       "  </thead>\n",
       "  <tbody>\n",
       "    <tr>\n",
       "      <th>0</th>\n",
       "      <td>7.0</td>\n",
       "      <td>0.270</td>\n",
       "      <td>0.36</td>\n",
       "      <td>20.7</td>\n",
       "      <td>0.045</td>\n",
       "      <td>45.0</td>\n",
       "      <td>170.0</td>\n",
       "      <td>1.00100</td>\n",
       "      <td>3.00</td>\n",
       "      <td>0.45</td>\n",
       "      <td>8.8</td>\n",
       "      <td>6</td>\n",
       "      <td>0</td>\n",
       "    </tr>\n",
       "    <tr>\n",
       "      <th>1</th>\n",
       "      <td>6.3</td>\n",
       "      <td>0.300</td>\n",
       "      <td>0.34</td>\n",
       "      <td>1.6</td>\n",
       "      <td>0.049</td>\n",
       "      <td>14.0</td>\n",
       "      <td>132.0</td>\n",
       "      <td>0.99400</td>\n",
       "      <td>3.30</td>\n",
       "      <td>0.49</td>\n",
       "      <td>9.5</td>\n",
       "      <td>6</td>\n",
       "      <td>0</td>\n",
       "    </tr>\n",
       "    <tr>\n",
       "      <th>2</th>\n",
       "      <td>8.1</td>\n",
       "      <td>0.280</td>\n",
       "      <td>0.40</td>\n",
       "      <td>6.9</td>\n",
       "      <td>0.050</td>\n",
       "      <td>30.0</td>\n",
       "      <td>97.0</td>\n",
       "      <td>0.99510</td>\n",
       "      <td>3.26</td>\n",
       "      <td>0.44</td>\n",
       "      <td>10.1</td>\n",
       "      <td>6</td>\n",
       "      <td>0</td>\n",
       "    </tr>\n",
       "    <tr>\n",
       "      <th>3</th>\n",
       "      <td>7.2</td>\n",
       "      <td>0.230</td>\n",
       "      <td>0.32</td>\n",
       "      <td>8.5</td>\n",
       "      <td>0.058</td>\n",
       "      <td>47.0</td>\n",
       "      <td>186.0</td>\n",
       "      <td>0.99560</td>\n",
       "      <td>3.19</td>\n",
       "      <td>0.40</td>\n",
       "      <td>9.9</td>\n",
       "      <td>6</td>\n",
       "      <td>0</td>\n",
       "    </tr>\n",
       "    <tr>\n",
       "      <th>4</th>\n",
       "      <td>7.2</td>\n",
       "      <td>0.230</td>\n",
       "      <td>0.32</td>\n",
       "      <td>8.5</td>\n",
       "      <td>0.058</td>\n",
       "      <td>47.0</td>\n",
       "      <td>186.0</td>\n",
       "      <td>0.99560</td>\n",
       "      <td>3.19</td>\n",
       "      <td>0.40</td>\n",
       "      <td>9.9</td>\n",
       "      <td>6</td>\n",
       "      <td>0</td>\n",
       "    </tr>\n",
       "    <tr>\n",
       "      <th>...</th>\n",
       "      <td>...</td>\n",
       "      <td>...</td>\n",
       "      <td>...</td>\n",
       "      <td>...</td>\n",
       "      <td>...</td>\n",
       "      <td>...</td>\n",
       "      <td>...</td>\n",
       "      <td>...</td>\n",
       "      <td>...</td>\n",
       "      <td>...</td>\n",
       "      <td>...</td>\n",
       "      <td>...</td>\n",
       "      <td>...</td>\n",
       "    </tr>\n",
       "    <tr>\n",
       "      <th>6458</th>\n",
       "      <td>6.8</td>\n",
       "      <td>0.620</td>\n",
       "      <td>0.08</td>\n",
       "      <td>1.9</td>\n",
       "      <td>0.068</td>\n",
       "      <td>28.0</td>\n",
       "      <td>38.0</td>\n",
       "      <td>0.99651</td>\n",
       "      <td>3.42</td>\n",
       "      <td>0.82</td>\n",
       "      <td>9.5</td>\n",
       "      <td>6</td>\n",
       "      <td>1</td>\n",
       "    </tr>\n",
       "    <tr>\n",
       "      <th>6459</th>\n",
       "      <td>6.2</td>\n",
       "      <td>0.600</td>\n",
       "      <td>0.08</td>\n",
       "      <td>2.0</td>\n",
       "      <td>0.090</td>\n",
       "      <td>32.0</td>\n",
       "      <td>44.0</td>\n",
       "      <td>0.99490</td>\n",
       "      <td>3.45</td>\n",
       "      <td>0.58</td>\n",
       "      <td>10.5</td>\n",
       "      <td>5</td>\n",
       "      <td>1</td>\n",
       "    </tr>\n",
       "    <tr>\n",
       "      <th>6460</th>\n",
       "      <td>6.3</td>\n",
       "      <td>0.510</td>\n",
       "      <td>0.13</td>\n",
       "      <td>2.3</td>\n",
       "      <td>0.076</td>\n",
       "      <td>29.0</td>\n",
       "      <td>40.0</td>\n",
       "      <td>0.99574</td>\n",
       "      <td>3.42</td>\n",
       "      <td>0.75</td>\n",
       "      <td>11.0</td>\n",
       "      <td>6</td>\n",
       "      <td>1</td>\n",
       "    </tr>\n",
       "    <tr>\n",
       "      <th>6461</th>\n",
       "      <td>5.9</td>\n",
       "      <td>0.645</td>\n",
       "      <td>0.12</td>\n",
       "      <td>2.0</td>\n",
       "      <td>0.075</td>\n",
       "      <td>32.0</td>\n",
       "      <td>44.0</td>\n",
       "      <td>0.99547</td>\n",
       "      <td>3.57</td>\n",
       "      <td>0.71</td>\n",
       "      <td>10.2</td>\n",
       "      <td>5</td>\n",
       "      <td>1</td>\n",
       "    </tr>\n",
       "    <tr>\n",
       "      <th>6462</th>\n",
       "      <td>6.0</td>\n",
       "      <td>0.310</td>\n",
       "      <td>0.47</td>\n",
       "      <td>3.6</td>\n",
       "      <td>0.067</td>\n",
       "      <td>18.0</td>\n",
       "      <td>42.0</td>\n",
       "      <td>0.99549</td>\n",
       "      <td>3.39</td>\n",
       "      <td>0.66</td>\n",
       "      <td>11.0</td>\n",
       "      <td>6</td>\n",
       "      <td>1</td>\n",
       "    </tr>\n",
       "  </tbody>\n",
       "</table>\n",
       "<p>6463 rows × 13 columns</p>\n",
       "</div>"
      ],
      "text/plain": [
       "      fixed_acidity  volatile_acidity  citric_acid  residual_sugar  chlorides  \\\n",
       "0               7.0             0.270         0.36            20.7      0.045   \n",
       "1               6.3             0.300         0.34             1.6      0.049   \n",
       "2               8.1             0.280         0.40             6.9      0.050   \n",
       "3               7.2             0.230         0.32             8.5      0.058   \n",
       "4               7.2             0.230         0.32             8.5      0.058   \n",
       "...             ...               ...          ...             ...        ...   \n",
       "6458            6.8             0.620         0.08             1.9      0.068   \n",
       "6459            6.2             0.600         0.08             2.0      0.090   \n",
       "6460            6.3             0.510         0.13             2.3      0.076   \n",
       "6461            5.9             0.645         0.12             2.0      0.075   \n",
       "6462            6.0             0.310         0.47             3.6      0.067   \n",
       "\n",
       "      free_sulf_diox  total_sulf_diox  density    pH  sulphates  alcohol  \\\n",
       "0               45.0            170.0  1.00100  3.00       0.45      8.8   \n",
       "1               14.0            132.0  0.99400  3.30       0.49      9.5   \n",
       "2               30.0             97.0  0.99510  3.26       0.44     10.1   \n",
       "3               47.0            186.0  0.99560  3.19       0.40      9.9   \n",
       "4               47.0            186.0  0.99560  3.19       0.40      9.9   \n",
       "...              ...              ...      ...   ...        ...      ...   \n",
       "6458            28.0             38.0  0.99651  3.42       0.82      9.5   \n",
       "6459            32.0             44.0  0.99490  3.45       0.58     10.5   \n",
       "6460            29.0             40.0  0.99574  3.42       0.75     11.0   \n",
       "6461            32.0             44.0  0.99547  3.57       0.71     10.2   \n",
       "6462            18.0             42.0  0.99549  3.39       0.66     11.0   \n",
       "\n",
       "      quality  type  \n",
       "0           6     0  \n",
       "1           6     0  \n",
       "2           6     0  \n",
       "3           6     0  \n",
       "4           6     0  \n",
       "...       ...   ...  \n",
       "6458        6     1  \n",
       "6459        5     1  \n",
       "6460        6     1  \n",
       "6461        5     1  \n",
       "6462        6     1  \n",
       "\n",
       "[6463 rows x 13 columns]"
      ]
     },
     "execution_count": 35,
     "metadata": {},
     "output_type": "execute_result"
    }
   ],
   "source": [
    "df"
   ]
  },
  {
   "cell_type": "code",
   "execution_count": null,
   "id": "44e74693",
   "metadata": {},
   "outputs": [],
   "source": []
  },
  {
   "cell_type": "code",
   "execution_count": null,
   "id": "8157d41a",
   "metadata": {},
   "outputs": [],
   "source": []
  },
  {
   "cell_type": "code",
   "execution_count": null,
   "id": "e6e9e7a3",
   "metadata": {},
   "outputs": [],
   "source": []
  },
  {
   "cell_type": "code",
   "execution_count": null,
   "id": "1b9c630d",
   "metadata": {},
   "outputs": [],
   "source": []
  },
  {
   "cell_type": "markdown",
   "id": "743e9be2",
   "metadata": {},
   "source": [
    "# Wine color"
   ]
  },
  {
   "cell_type": "code",
   "execution_count": null,
   "id": "8141331b",
   "metadata": {},
   "outputs": [],
   "source": []
  },
  {
   "cell_type": "code",
   "execution_count": 136,
   "id": "d2e91f9c",
   "metadata": {},
   "outputs": [],
   "source": [
    "# Split in training and test data\n",
    "\n",
    "train_data_frac = 0.7\n",
    "\n",
    "train = df_scaled.sample(frac = train_data_frac, random_state = 20)\n",
    "test = df_scaled.drop(train.index)\n",
    "\n",
    "# seperate response from covariates\n",
    "\n",
    "train_cov = train.drop([\"quality\", \"type\"], axis=1)\n",
    "train_resp = train[\"type\"]\n",
    "\n",
    "test_cov = test.drop([\"quality\", \"type\"], axis=1)\n",
    "test_resp = test[\"type\"]"
   ]
  },
  {
   "cell_type": "code",
   "execution_count": 141,
   "id": "9df31444",
   "metadata": {},
   "outputs": [
    {
     "data": {
      "text/html": [
       "<style>#sk-container-id-7 {color: black;background-color: white;}#sk-container-id-7 pre{padding: 0;}#sk-container-id-7 div.sk-toggleable {background-color: white;}#sk-container-id-7 label.sk-toggleable__label {cursor: pointer;display: block;width: 100%;margin-bottom: 0;padding: 0.3em;box-sizing: border-box;text-align: center;}#sk-container-id-7 label.sk-toggleable__label-arrow:before {content: \"▸\";float: left;margin-right: 0.25em;color: #696969;}#sk-container-id-7 label.sk-toggleable__label-arrow:hover:before {color: black;}#sk-container-id-7 div.sk-estimator:hover label.sk-toggleable__label-arrow:before {color: black;}#sk-container-id-7 div.sk-toggleable__content {max-height: 0;max-width: 0;overflow: hidden;text-align: left;background-color: #f0f8ff;}#sk-container-id-7 div.sk-toggleable__content pre {margin: 0.2em;color: black;border-radius: 0.25em;background-color: #f0f8ff;}#sk-container-id-7 input.sk-toggleable__control:checked~div.sk-toggleable__content {max-height: 200px;max-width: 100%;overflow: auto;}#sk-container-id-7 input.sk-toggleable__control:checked~label.sk-toggleable__label-arrow:before {content: \"▾\";}#sk-container-id-7 div.sk-estimator input.sk-toggleable__control:checked~label.sk-toggleable__label {background-color: #d4ebff;}#sk-container-id-7 div.sk-label input.sk-toggleable__control:checked~label.sk-toggleable__label {background-color: #d4ebff;}#sk-container-id-7 input.sk-hidden--visually {border: 0;clip: rect(1px 1px 1px 1px);clip: rect(1px, 1px, 1px, 1px);height: 1px;margin: -1px;overflow: hidden;padding: 0;position: absolute;width: 1px;}#sk-container-id-7 div.sk-estimator {font-family: monospace;background-color: #f0f8ff;border: 1px dotted black;border-radius: 0.25em;box-sizing: border-box;margin-bottom: 0.5em;}#sk-container-id-7 div.sk-estimator:hover {background-color: #d4ebff;}#sk-container-id-7 div.sk-parallel-item::after {content: \"\";width: 100%;border-bottom: 1px solid gray;flex-grow: 1;}#sk-container-id-7 div.sk-label:hover label.sk-toggleable__label {background-color: #d4ebff;}#sk-container-id-7 div.sk-serial::before {content: \"\";position: absolute;border-left: 1px solid gray;box-sizing: border-box;top: 0;bottom: 0;left: 50%;z-index: 0;}#sk-container-id-7 div.sk-serial {display: flex;flex-direction: column;align-items: center;background-color: white;padding-right: 0.2em;padding-left: 0.2em;position: relative;}#sk-container-id-7 div.sk-item {position: relative;z-index: 1;}#sk-container-id-7 div.sk-parallel {display: flex;align-items: stretch;justify-content: center;background-color: white;position: relative;}#sk-container-id-7 div.sk-item::before, #sk-container-id-7 div.sk-parallel-item::before {content: \"\";position: absolute;border-left: 1px solid gray;box-sizing: border-box;top: 0;bottom: 0;left: 50%;z-index: -1;}#sk-container-id-7 div.sk-parallel-item {display: flex;flex-direction: column;z-index: 1;position: relative;background-color: white;}#sk-container-id-7 div.sk-parallel-item:first-child::after {align-self: flex-end;width: 50%;}#sk-container-id-7 div.sk-parallel-item:last-child::after {align-self: flex-start;width: 50%;}#sk-container-id-7 div.sk-parallel-item:only-child::after {width: 0;}#sk-container-id-7 div.sk-dashed-wrapped {border: 1px dashed gray;margin: 0 0.4em 0.5em 0.4em;box-sizing: border-box;padding-bottom: 0.4em;background-color: white;}#sk-container-id-7 div.sk-label label {font-family: monospace;font-weight: bold;display: inline-block;line-height: 1.2em;}#sk-container-id-7 div.sk-label-container {text-align: center;}#sk-container-id-7 div.sk-container {/* jupyter's `normalize.less` sets `[hidden] { display: none; }` but bootstrap.min.css set `[hidden] { display: none !important; }` so we also need the `!important` here to be able to override the default hidden behavior on the sphinx rendered scikit-learn.org. See: https://github.com/scikit-learn/scikit-learn/issues/21755 */display: inline-block !important;position: relative;}#sk-container-id-7 div.sk-text-repr-fallback {display: none;}</style><div id=\"sk-container-id-7\" class=\"sk-top-container\"><div class=\"sk-text-repr-fallback\"><pre>LogisticRegression(penalty=None)</pre><b>In a Jupyter environment, please rerun this cell to show the HTML representation or trust the notebook. <br />On GitHub, the HTML representation is unable to render, please try loading this page with nbviewer.org.</b></div><div class=\"sk-container\" hidden><div class=\"sk-item\"><div class=\"sk-estimator sk-toggleable\"><input class=\"sk-toggleable__control sk-hidden--visually\" id=\"sk-estimator-id-7\" type=\"checkbox\" checked><label for=\"sk-estimator-id-7\" class=\"sk-toggleable__label sk-toggleable__label-arrow\">LogisticRegression</label><div class=\"sk-toggleable__content\"><pre>LogisticRegression(penalty=None)</pre></div></div></div></div></div>"
      ],
      "text/plain": [
       "LogisticRegression(penalty=None)"
      ]
     },
     "execution_count": 141,
     "metadata": {},
     "output_type": "execute_result"
    }
   ],
   "source": [
    "log = lm.LogisticRegression(penalty = None)\n",
    "log.fit(train_cov, train_resp)"
   ]
  },
  {
   "cell_type": "code",
   "execution_count": 142,
   "id": "e8c31033",
   "metadata": {},
   "outputs": [
    {
     "data": {
      "text/plain": [
       "0.0036101083032490976"
      ]
     },
     "execution_count": 142,
     "metadata": {},
     "output_type": "execute_result"
    }
   ],
   "source": [
    "test_pred_log = np.round(log.predict(test_cov))\n",
    "metrics.hamming_loss(test_resp, test_pred_log)"
   ]
  },
  {
   "cell_type": "code",
   "execution_count": 143,
   "id": "134c60d2",
   "metadata": {},
   "outputs": [
    {
     "name": "stdout",
     "output_type": "stream",
     "text": [
      "[[-0.2234355   1.10700335 -0.23964762 -3.8834452   0.73886525  1.1519509\n",
      "  -2.81313087  4.73543466 -0.06733277  0.44710206  1.96976076]]\n"
     ]
    }
   ],
   "source": [
    "print(log.coef_)"
   ]
  },
  {
   "cell_type": "code",
   "execution_count": 250,
   "id": "38eab481",
   "metadata": {},
   "outputs": [
    {
     "data": {
      "text/plain": [
       "0.015235926583661163"
      ]
     },
     "execution_count": 250,
     "metadata": {},
     "output_type": "execute_result"
    }
   ],
   "source": [
    "metrics.log_loss(test_resp, log.predict_proba(test_cov))"
   ]
  },
  {
   "cell_type": "code",
   "execution_count": 146,
   "id": "d05f0523",
   "metadata": {},
   "outputs": [
    {
     "data": {
      "text/plain": [
       "0.997421351211965"
      ]
     },
     "execution_count": 146,
     "metadata": {},
     "output_type": "execute_result"
    }
   ],
   "source": [
    "Forest = RandomForestClassifier()\n",
    "Forest.fit(train_cov, train_resp)\n",
    "Forest.score(test_cov,  test_resp)"
   ]
  },
  {
   "cell_type": "code",
   "execution_count": 254,
   "id": "8aecc3ce",
   "metadata": {},
   "outputs": [
    {
     "data": {
      "image/png": "[encoded data removed]",
      "text/plain": [
       "<Figure size 640x480 with 1 Axes>"
      ]
     },
     "metadata": {},
     "output_type": "display_data"
    }
   ],
   "source": [
    "FeatureImportance = pd.DataFrame({\n",
    "    'Covariates' : train_cov.columns,\n",
    "    'Importance' : Forest.feature_importances_\n",
    "    }).sort_values(by='Importance', ascending=False).reset_index(drop=True)\n",
    "_ = plt.bar(FeatureImportance.Covariates, FeatureImportance.Importance, color = \"seagreen\")\n",
    "_ = plt.xticks(rotation=90)\n",
    "_ = plt.title(\"Feature Importance\")\n",
    "_ = plt.ylabel(\"Weight\")\n",
    "#plt.savefig('Feature_Importance.png', bbox_inches='tight')"
   ]
  },
  {
   "cell_type": "code",
   "execution_count": 265,
   "id": "b853d10c",
   "metadata": {},
   "outputs": [
    {
     "data": {
      "image/png": "[encoded data removed]",
      "text/plain": [
       "<Figure size 640x480 with 1 Axes>"
      ]
     },
     "metadata": {},
     "output_type": "display_data"
    }
   ],
   "source": [
    "colors = train_resp.map({0: 'khaki', 1: 'darkred'})\n",
    "scatter = plt.scatter(train_cov[\"total_sulf_diox\"], train_cov[\"chlorides\"], c = colors, s = 10)\n",
    "legend_labels = ['White = 0', 'Red = 1']\n",
    "legend_handles = [Line2D([0], [0], marker='o', color='w', markerfacecolor='khaki', markersize=8),\n",
    "                  Line2D([0], [0], marker='o', color='w', markerfacecolor='darkred', markersize=8)]\n",
    "_ = plt.legend(handles=legend_handles, labels=legend_labels, loc=\"upper right\", title=\"Wine Color\")\n",
    "_ = plt.xlabel(\"Total sulfur dioxide\")\n",
    "_ = plt.ylabel(\"Chlorides\")\n",
    "_ = plt.title(\"Total sulfur dioxide vs. Chlorides\")\n",
    "#plt.savefig('Scatter_sulfur_chlorides.png', bbox_inches='tight')"
   ]
  },
  {
   "cell_type": "code",
   "execution_count": 258,
   "id": "cd7448a5",
   "metadata": {},
   "outputs": [],
   "source": [
    "train_cov_restricted = train_cov[[\"total_sulf_diox\", \"chlorides\"]]\n",
    "test_cov_restricted = test_cov[[\"total_sulf_diox\", \"chlorides\"]]"
   ]
  },
  {
   "cell_type": "code",
   "execution_count": 259,
   "id": "0c97faa5",
   "metadata": {},
   "outputs": [
    {
     "data": {
      "text/plain": [
       "0.9778236204228984"
      ]
     },
     "execution_count": 259,
     "metadata": {},
     "output_type": "execute_result"
    }
   ],
   "source": [
    "Forest = RandomForestClassifier()\n",
    "Forest.fit(train_cov_restricted, train_resp)\n",
    "Forest.score(test_cov_restricted,  test_resp)"
   ]
  },
  {
   "cell_type": "code",
   "execution_count": null,
   "id": "a2ab3160",
   "metadata": {},
   "outputs": [],
   "source": []
  },
  {
   "cell_type": "code",
   "execution_count": null,
   "id": "db14fa2c",
   "metadata": {},
   "outputs": [],
   "source": []
  },
  {
   "cell_type": "code",
   "execution_count": 262,
   "id": "769f82d0",
   "metadata": {},
   "outputs": [
    {
     "data": {
      "image/png": "[encoded data removed]",
      "text/plain": [
       "<Figure size 640x480 with 1 Axes>"
      ]
     },
     "metadata": {},
     "output_type": "display_data"
    }
   ],
   "source": [
    "colors = train_resp.map({0: 'khaki', 1: 'darkred'})\n",
    "scatter = plt.scatter(train_cov[\"total_sulf_diox\"], np.zeros(train_cov.shape[0]), c = colors, s = 10)\n",
    "legend_labels = ['White = 0', 'Red = 1']\n",
    "legend_handles = [Line2D([0], [0], marker='o', color='w', markerfacecolor='khaki', markersize=8),\n",
    "                  Line2D([0], [0], marker='o', color='w', markerfacecolor='darkred', markersize=8)]\n",
    "_ = plt.legend(handles=legend_handles, labels=legend_labels, loc=\"upper right\", title=\"Wine Color\")"
   ]
  },
  {
   "cell_type": "code",
   "execution_count": null,
   "id": "ed82eba1",
   "metadata": {},
   "outputs": [],
   "source": []
  }
 ],
 "metadata": {
  "kernelspec": {
   "display_name": "Python 3 (ipykernel)",
   "language": "python",
   "name": "python3"
  },
  "language_info": {
   "codemirror_mode": {
    "name": "ipython",
    "version": 3
   },
   "file_extension": ".py",
   "mimetype": "text/x-python",
   "name": "python",
   "nbconvert_exporter": "python",
   "pygments_lexer": "ipython3",
   "version": "3.10.9"
  }
 },
 "nbformat": 4,
 "nbformat_minor": 5
}
